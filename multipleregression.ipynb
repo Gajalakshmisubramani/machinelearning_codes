{
  "nbformat": 4,
  "nbformat_minor": 0,
  "metadata": {
    "colab": {
      "provenance": [],
      "authorship_tag": "ABX9TyMHEDXAx+ySaR+iBsaJenWY",
      "include_colab_link": true
    },
    "kernelspec": {
      "name": "python3",
      "display_name": "Python 3"
    },
    "language_info": {
      "name": "python"
    }
  },
  "cells": [
    {
      "cell_type": "markdown",
      "metadata": {
        "id": "view-in-github",
        "colab_type": "text"
      },
      "source": [
        "<a href=\"https://colab.research.google.com/github/Gajalakshmisubramani/machinelearning_codes/blob/main/multipleregression.ipynb\" target=\"_parent\"><img src=\"https://colab.research.google.com/assets/colab-badge.svg\" alt=\"Open In Colab\"/></a>"
      ]
    },
    {
      "cell_type": "code",
      "execution_count": null,
      "metadata": {
        "id": "97kb7C7LWW-4"
      },
      "outputs": [],
      "source": [
        "import pandas\n",
        "from sklearn import linear_model\n",
        "df=pandas.read_csv(\"/content/harifile.xls\")#https://www.w3schools.com/python/trypandas.asp?filename=demo_ml_multiple_regression\")\n",
        "x=df[['Weight','Volume']]\n",
        "y=df['CO2']\n",
        "regr=linear_model.LinearRegression()\n",
        "regr.fit(x.values,y)\n",
        "predictedCO2=regr.predict([[2300,1300]])\n",
        "print(predictedCO2)\n"
      ]
    }
  ]
}