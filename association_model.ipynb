{
  "nbformat": 4,
  "nbformat_minor": 0,
  "metadata": {
    "colab": {
      "provenance": [],
      "authorship_tag": "ABX9TyPucuJ0UHFA4KUxjvcFeFMN",
      "include_colab_link": true
    },
    "kernelspec": {
      "name": "python3",
      "display_name": "Python 3"
    },
    "language_info": {
      "name": "python"
    }
  },
  "cells": [
    {
      "cell_type": "markdown",
      "metadata": {
        "id": "view-in-github",
        "colab_type": "text"
      },
      "source": [
        "<a href=\"https://colab.research.google.com/github/Gajalakshmisubramani/machinelearning_codes/blob/main/association_model.ipynb\" target=\"_parent\"><img src=\"https://colab.research.google.com/assets/colab-badge.svg\" alt=\"Open In Colab\"/></a>"
      ]
    },
    {
      "cell_type": "code",
      "execution_count": null,
      "metadata": {
        "colab": {
          "base_uri": "https://localhost:8080/"
        },
        "id": "ejX-679LfHeJ",
        "outputId": "5c19c7f5-28cc-4f9c-d6da-ff97d0d89175"
      },
      "outputs": [
        {
          "output_type": "stream",
          "name": "stdout",
          "text": [
            "Frequent Itemsets:    support       itemsets\n",
            "0      0.8        (Bread)\n",
            "1      0.6         (Milk)\n",
            "2      0.4  (Milk, Bread)\n"
          ]
        },
        {
          "output_type": "stream",
          "name": "stderr",
          "text": [
            "/usr/local/lib/python3.10/dist-packages/ipykernel/ipkernel.py:283: DeprecationWarning: `should_run_async` will not call `transform_cell` automatically in the future. Please pass the result to `transformed_cell` argument and any exception that happen during thetransform in `preprocessing_exc_tuple` in IPython 7.17 and above.\n",
            "  and should_run_async(code)\n",
            "/usr/local/lib/python3.10/dist-packages/mlxtend/frequent_patterns/fpcommon.py:110: DeprecationWarning: DataFrames with non-bool types result in worse computationalperformance and their support might be discontinued in the future.Please use a DataFrame with bool type\n",
            "  warnings.warn(\n"
          ]
        }
      ],
      "source": [
        "import pandas as pd\n",
        "from mlxtend.frequent_patterns import apriori, association_rules\n",
        "data = {'Transaction': [1, 1, 2, 2, 3, 4, 4, 5],'Item': ['Bread', 'Milk', 'Bread', 'Diapers', 'Milk', 'Bread', 'Milk','Bread']}\n",
        "df = pd.DataFrame(data)\n",
        "binary_data = pd.crosstab(df['Transaction'],\n",
        "df['Item']).applymap(lambda x: 1 if x > 0 else 0)\n",
        "frequent_itemsets = apriori(binary_data, min_support=0.3,\n",
        "use_colnames=True)\n",
        "print(\"Frequent Itemsets:\",frequent_itemsets)"
      ]
    }
  ]
}