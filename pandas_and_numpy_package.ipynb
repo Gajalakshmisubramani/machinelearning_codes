{
  "nbformat": 4,
  "nbformat_minor": 0,
  "metadata": {
    "colab": {
      "provenance": [],
      "authorship_tag": "ABX9TyPXId9AYA5RuAZ6AeDl/f3Z",
      "include_colab_link": true
    },
    "kernelspec": {
      "name": "python3",
      "display_name": "Python 3"
    },
    "language_info": {
      "name": "python"
    }
  },
  "cells": [
    {
      "cell_type": "markdown",
      "metadata": {
        "id": "view-in-github",
        "colab_type": "text"
      },
      "source": [
        "<a href=\"https://colab.research.google.com/github/Gajalakshmisubramani/machinelearning_codes/blob/main/pandas_and_numpy_package.ipynb\" target=\"_parent\"><img src=\"https://colab.research.google.com/assets/colab-badge.svg\" alt=\"Open In Colab\"/></a>"
      ]
    },
    {
      "cell_type": "code",
      "execution_count": null,
      "metadata": {
        "colab": {
          "base_uri": "https://localhost:8080/"
        },
        "id": "QVDrZ8r_xotD",
        "outputId": "587a91fe-b152-4adf-90fc-579ec84f00a6"
      },
      "outputs": [
        {
          "output_type": "stream",
          "name": "stdout",
          "text": [
            "test:hello world\n"
          ]
        }
      ],
      "source": [
        "test=\"hello world\"\n",
        "print(\"test:\"+test)"
      ]
    },
    {
      "cell_type": "code",
      "source": [
        "import numpy as np\n",
        "import pandas as pd"
      ],
      "metadata": {
        "id": "oz2xwr74ywiM"
      },
      "execution_count": null,
      "outputs": []
    },
    {
      "cell_type": "code",
      "source": [
        "\n",
        "arr=np.array([1,2,3,4,5])\n",
        "print(arr)\n",
        "print(type(arr))"
      ],
      "metadata": {
        "colab": {
          "base_uri": "https://localhost:8080/"
        },
        "id": "quQEn9cjyKnA",
        "outputId": "eb08f85a-fca2-4f1e-db1d-8634a734d835"
      },
      "execution_count": null,
      "outputs": [
        {
          "output_type": "stream",
          "name": "stdout",
          "text": [
            "[1 2 3 4 5]\n",
            "<class 'numpy.ndarray'>\n"
          ]
        }
      ]
    },
    {
      "cell_type": "code",
      "source": [
        "arr=np.array([[1,2,3,],[4,5,6]])\n",
        "print(\"array of type :\",type(arr))\n",
        "print(\"no of dimension:\",arr.ndim)\n",
        "print(\"shape of array\",arr.shape)\n",
        "print(\"size of array:\",arr.size)\n",
        "print(\"arrray stores elements of array\",arr.dtype)"
      ],
      "metadata": {
        "colab": {
          "base_uri": "https://localhost:8080/"
        },
        "id": "8mtU1BDAycwm",
        "outputId": "f6ef346c-1182-4633-a19b-b70768c0b601"
      },
      "execution_count": null,
      "outputs": [
        {
          "output_type": "stream",
          "name": "stdout",
          "text": [
            "array of type : <class 'numpy.ndarray'>\n",
            "no of dimension: 2\n",
            "shape of array (2, 3)\n",
            "size of array: 6\n",
            "arrray stores elements of array int64\n"
          ]
        }
      ]
    },
    {
      "cell_type": "code",
      "source": [
        "ser=pd.Series()\n",
        "print(ser)\n",
        "data=np.array(['g','e','e','k','s'])\n",
        "ser=pd.Series(data)\n",
        "print(ser)"
      ],
      "metadata": {
        "colab": {
          "base_uri": "https://localhost:8080/"
        },
        "id": "aC2-DkFy0YLO",
        "outputId": "1bba9dca-e305-488e-c779-7eb399cfcae7"
      },
      "execution_count": null,
      "outputs": [
        {
          "output_type": "stream",
          "name": "stdout",
          "text": [
            "Series([], dtype: float64)\n",
            "0    g\n",
            "1    e\n",
            "2    e\n",
            "3    k\n",
            "4    s\n",
            "dtype: object\n"
          ]
        },
        {
          "output_type": "stream",
          "name": "stderr",
          "text": [
            "<ipython-input-16-e0616d437620>:1: FutureWarning: The default dtype for empty Series will be 'object' instead of 'float64' in a future version. Specify a dtype explicitly to silence this warning.\n",
            "  ser=pd.Series()\n"
          ]
        }
      ]
    },
    {
      "cell_type": "code",
      "source": [
        "df=pd.DataFrame()\n",
        "print(df)\n",
        "lst=['greek','for ','greeks','is','portal','for','greeks']\n",
        "df=pd.DataFrame(lst)\n",
        "print(df)"
      ],
      "metadata": {
        "colab": {
          "base_uri": "https://localhost:8080/"
        },
        "id": "I5JHK5WX1MGy",
        "outputId": "8cbc010f-3d95-4121-b6d1-610f885a0d70"
      },
      "execution_count": null,
      "outputs": [
        {
          "output_type": "stream",
          "name": "stdout",
          "text": [
            "Empty DataFrame\n",
            "Columns: []\n",
            "Index: []\n",
            "        0\n",
            "0   greek\n",
            "1    for \n",
            "2  greeks\n",
            "3      is\n",
            "4  portal\n",
            "5     for\n",
            "6  greeks\n"
          ]
        }
      ]
    }
  ]
}