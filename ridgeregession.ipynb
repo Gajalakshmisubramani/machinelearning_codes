{
  "nbformat": 4,
  "nbformat_minor": 0,
  "metadata": {
    "colab": {
      "provenance": [],
      "authorship_tag": "ABX9TyMOqLNjDH8rliRKfQb/EwP9",
      "include_colab_link": true
    },
    "kernelspec": {
      "name": "python3",
      "display_name": "Python 3"
    },
    "language_info": {
      "name": "python"
    }
  },
  "cells": [
    {
      "cell_type": "markdown",
      "metadata": {
        "id": "view-in-github",
        "colab_type": "text"
      },
      "source": [
        "<a href=\"https://colab.research.google.com/github/Gajalakshmisubramani/machinelearning_codes/blob/main/ridgeregession.ipynb\" target=\"_parent\"><img src=\"https://colab.research.google.com/assets/colab-badge.svg\" alt=\"Open In Colab\"/></a>"
      ]
    },
    {
      "cell_type": "code",
      "execution_count": null,
      "metadata": {
        "id": "JX0IKb0XmrTX"
      },
      "outputs": [],
      "source": [
        "import numpy as np\n",
        "import pandas as pd\n",
        "from sklearn.model_selection import train_test_split\n",
        "import matplotlib.pyplot as plt\n",
        "\n",
        "class RidgeRegression() :\n",
        "\n",
        "def __init__( self, learning_rate, iterations, l1_penality ) :\n",
        "\n",
        "    self.learning_rate = learning_rate\n",
        "    self.iterations = iterations\n",
        "    self.l1_penality = l1_penality\n",
        "\n",
        "\n",
        "def fit( self, X, Y ) :\n",
        "\n",
        "\n",
        "    self.m, self.n = X.shape\n",
        "\n",
        "\n",
        "    self.W = np.zeros( self.n )\n",
        "\n",
        "    self.b = 0\n",
        "    self.X = X\n",
        "    self.Y = Y\n",
        "\n",
        "\n",
        "    for i in range( self.iterations ) :\n",
        "      self.update_weights()\n",
        "    return self\n",
        "\n",
        "def update_weights( self ) :\n",
        "    Y_pred = self.predict( self.X )\n",
        "    dW=np.zeros(self.n)\n",
        "    for j in range(self.n)\n",
        "    if self.W[j]>0:dW[j]=()\n",
        "    dW = ( - ( 2 * ( self.X.T ).dot( self.Y - Y_pred ) ) +\n",
        "      ( 2 * self.l2_penality * self.W ) ) / self.m\n",
        "    db = - 2 * np.sum( self.Y - Y_pred ) / self.m\n",
        "\n",
        "    self.W = self.W - self.learning_rate * dW\n",
        "    self.b = self.b - self.learning_rate * db\n",
        "    return self\n",
        "\n",
        "def predict( self, X ) :\n",
        "    return X.dot( self.W ) + self.b\n",
        "\n",
        "\n",
        "\n",
        "def main() :\n",
        "\n",
        "\n",
        "  df = pd.read_csv( \"/content/salary_data (1).csv\" )\n",
        "  X = df.iloc[:, :-1].values\n",
        "  Y = df.iloc[:, 1].values\n",
        "\n",
        "\n",
        "  X_train, X_test, Y_train, Y_test = train_test_split( X, Y,\n",
        "\n",
        "                    test_size = 1 / 3, random_state = 0 )\n",
        "\n",
        "\n",
        "  model = RidgeRegression( iterations = 1000,\n",
        "              learning_rate = 0.01, l2_penality = 1 )\n",
        "  model.fit( X_train, Y_train )\n",
        "  Y_pred = model.predict( X_test )\n",
        "  print( \"Predicted values \", np.round( Y_pred[:3], 2 ) )\n",
        "  print( \"Real values  \", Y_test[:3] )\n",
        "  print( \"Trained W  \", round( model.W[0], 2 ) )\n",
        "  print( \"Trained b  \", round( model.b, 2 ) )\n",
        "  plt.scatter( X_test, Y_test, color = 'blue' )\n",
        "  plt.plot( X_test, Y_pred, color = 'orange' )\n",
        "  plt.title( 'Salary vs Experience' )\n",
        "  plt.xlabel( 'Years of Experience' )\n",
        "  plt.ylabel( 'Salary' )\n",
        "  plt.show()\n",
        "\n",
        "if __name__ == \"__main__\" :\n",
        "  main()\n",
        "\n"
      ]
    }
  ]
}